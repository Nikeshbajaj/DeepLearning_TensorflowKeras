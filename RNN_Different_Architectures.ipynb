{
 "cells": [
  {
   "cell_type": "markdown",
   "metadata": {},
   "source": [
    "# Recurrence Neural Network: Different Architectures"
   ]
  },
  {
   "cell_type": "markdown",
   "metadata": {
    "toc": true
   },
   "source": [
    "<h1>Table of Contents<span class=\"tocSkip\"></span></h1>\n",
    "<div class=\"toc\"><ul class=\"toc-item\"><li><span><a href=\"#Dataset:-imdb-review\" data-toc-modified-id=\"Dataset:-imdb-review-1\"><span class=\"toc-item-num\">1&nbsp;&nbsp;</span>Dataset: imdb review</a></span><ul class=\"toc-item\"><li><span><a href=\"#Original-data-set-with-variable-input-length\" data-toc-modified-id=\"Original-data-set-with-variable-input-length-1.1\"><span class=\"toc-item-num\">1.1&nbsp;&nbsp;</span>Original data set with variable input length</a></span></li><li><span><a href=\"#Fixing-the-input-length\" data-toc-modified-id=\"Fixing-the-input-length-1.2\"><span class=\"toc-item-num\">1.2&nbsp;&nbsp;</span>Fixing the input length</a></span></li></ul></li><li><span><a href=\"#Sequence-(fixed-length)-to-a-class-label\" data-toc-modified-id=\"Sequence-(fixed-length)-to-a-class-label-2\"><span class=\"toc-item-num\">2&nbsp;&nbsp;</span>Sequence (fixed length) to a class label</a></span></li><li><span><a href=\"#Sequence-(variable-length)-to-a-class-label\" data-toc-modified-id=\"Sequence-(variable-length)-to-a-class-label-3\"><span class=\"toc-item-num\">3&nbsp;&nbsp;</span>Sequence (variable length) to a class label</a></span><ul class=\"toc-item\"><li><span><a href=\"#Generators---one-sample-at-a-time-(slow)\" data-toc-modified-id=\"Generators---one-sample-at-a-time-(slow)-3.1\"><span class=\"toc-item-num\">3.1&nbsp;&nbsp;</span>Generators - one sample at a time (slow)</a></span></li><li><span><a href=\"#Generators---one-batch-at-a-time--(faster)\" data-toc-modified-id=\"Generators---one-batch-at-a-time--(faster)-3.2\"><span class=\"toc-item-num\">3.2&nbsp;&nbsp;</span>Generators - one batch at a time  (faster)</a></span></li></ul></li><li><span><a href=\"#Sequence--to-sequence-(fixed-length-/-variable-length-)\" data-toc-modified-id=\"Sequence--to-sequence-(fixed-length-/-variable-length-)-4\"><span class=\"toc-item-num\">4&nbsp;&nbsp;</span>Sequence  to sequence (fixed length / variable length )</a></span></li><li><span><a href=\"#Regression\" data-toc-modified-id=\"Regression-5\"><span class=\"toc-item-num\">5&nbsp;&nbsp;</span>Regression</a></span></li></ul></div>"
   ]
  },
  {
   "cell_type": "code",
   "execution_count": 1,
   "metadata": {},
   "outputs": [],
   "source": [
    "import numpy as np\n",
    "import matplotlib.pyplot as plt"
   ]
  },
  {
   "cell_type": "code",
   "execution_count": 27,
   "metadata": {},
   "outputs": [
    {
     "name": "stdout",
     "output_type": "stream",
     "text": [
      "2.2.4\n"
     ]
    }
   ],
   "source": [
    "import keras\n",
    "print(keras.__version__)\n",
    "from keras.models import Sequential\n",
    "from keras.utils import to_categorical\n",
    "from keras import preprocessing\n",
    "from keras.preprocessing import sequence\n",
    "from keras.models import Sequential, Model\n",
    "from keras.layers import Embedding, SimpleRNN\n",
    "from keras.layers import LSTM, Dense, TimeDistributed,Input\n",
    "\n",
    "\n",
    "from IPython.display import SVG\n",
    "from keras.utils.vis_utils import model_to_dot"
   ]
  },
  {
   "cell_type": "markdown",
   "metadata": {},
   "source": [
    "## Dataset: imdb review"
   ]
  },
  {
   "cell_type": "markdown",
   "metadata": {},
   "source": [
    "### Original data set with variable input length"
   ]
  },
  {
   "cell_type": "code",
   "execution_count": 4,
   "metadata": {},
   "outputs": [
    {
     "name": "stdout",
     "output_type": "stream",
     "text": [
      "Loading data.....\n",
      "# train sequences :  25000\n",
      "# test sequences  :  25000\n",
      "Class labels:  [0 1]\n"
     ]
    },
    {
     "data": {
      "image/png": "[encoded data removed]",
      "text/plain": [
       "<Figure size 432x288 with 1 Axes>"
      ]
     },
     "metadata": {
      "needs_background": "light"
     },
     "output_type": "display_data"
    }
   ],
   "source": [
    "from keras.datasets import imdb\n",
    "\n",
    "# number of words to consider as features to read from imdb database\n",
    "nWordsfromData = 10000\n",
    "\n",
    "print('Loading data.....')\n",
    "(X_train, y_train), (X_test, y_test) = imdb.load_data(num_words=nWordsfromData)\n",
    "print('# train sequences : ', len(X_train))\n",
    "print('# test sequences  : ',len(X_test))\n",
    "print('Class labels: ',np.unique(y_train))\n",
    "\n",
    "plt.plot([len(X_train[i]) for i in range(len(X_train))])\n",
    "plt.ylabel('length of each sequence')\n",
    "plt.xlabel('Sequence #')\n",
    "plt.show()"
   ]
  },
  {
   "cell_type": "code",
   "execution_count": 36,
   "metadata": {},
   "outputs": [],
   "source": [
    "X_train = input_train\n",
    "X_test = input_test\n",
    "\n",
    "Xf_train = input_train_f\n",
    "Xf_test = input_test_f"
   ]
  },
  {
   "cell_type": "markdown",
   "metadata": {},
   "source": [
    "### Fixing the input length"
   ]
  },
  {
   "cell_type": "code",
   "execution_count": 37,
   "metadata": {},
   "outputs": [
    {
     "name": "stdout",
     "output_type": "stream",
     "text": [
      "\n",
      "Fixing length of each example to : 500\n",
      "Pad sequences (samples x time)\n",
      "New input_train shape: (25000, 500)\n",
      "New input_test shape: (25000, 500)\n"
     ]
    }
   ],
   "source": [
    "# Top most commonly used words\n",
    "nTopWords = 500  \n",
    "\n",
    "print('')\n",
    "print('Fixing length of each example to :',nTopWords)\n",
    "print('Pad sequences (samples x time)')\n",
    "Xf_train = sequence.pad_sequences(X_train, maxlen=nTopWords)\n",
    "Xf_test = sequence.pad_sequences(X_test, maxlen=nTopWords)\n",
    "print('New input_train shape:', Xf_train.shape)\n",
    "print('New input_test shape:', Xf_test.shape)"
   ]
  },
  {
   "cell_type": "markdown",
   "metadata": {},
   "source": [
    "## Sequence (fixed length) to a class label"
   ]
  },
  {
   "cell_type": "markdown",
   "metadata": {},
   "source": [
    "Use LSTM, SimpleRNN, Embedding...."
   ]
  },
  {
   "cell_type": "code",
   "execution_count": 30,
   "metadata": {},
   "outputs": [],
   "source": [
    "inputs = Input(shape=(nTopWords,),name='Input')\n",
    "x = Embedding(nWordsfromData, 32,name='Embedding')(inputs)\n",
    "x = LSTM(32,name='LSTM1')(x)\n",
    "output = Dense(1, activation='sigmoid',name='output')(x)\n",
    "model = Model(inputs=inputs, outputs=output)\n",
    "model.compile(optimizer='adam', loss='binary_crossentropy', metrics=['acc'])"
   ]
  },
  {
   "cell_type": "code",
   "execution_count": 31,
   "metadata": {},
   "outputs": [
    {
     "name": "stdout",
     "output_type": "stream",
     "text": [
      "_________________________________________________________________\n",
      "Layer (type)                 Output Shape              Param #   \n",
      "=================================================================\n",
      "Input (InputLayer)           (None, 500)               0         \n",
      "_________________________________________________________________\n",
      "embedding_5 (Embedding)      (None, 500, 32)           320000    \n",
      "_________________________________________________________________\n",
      "lstm_5 (LSTM)                (None, 32)                8320      \n",
      "_________________________________________________________________\n",
      "dense_4 (Dense)              (None, 1)                 33        \n",
      "=================================================================\n",
      "Total params: 328,353\n",
      "Trainable params: 328,353\n",
      "Non-trainable params: 0\n",
      "_________________________________________________________________\n"
     ]
    },
    {
     "data": {
      "image/svg+xml": [
       "<svg height=\"304pt\" viewBox=\"0.00 0.00 328.00 304.00\" width=\"328pt\" xmlns=\"http://www.w3.org/2000/svg\" xmlns:xlink=\"http://www.w3.org/1999/xlink\">\n",
       "<g class=\"graph\" id=\"graph0\" transform=\"scale(1 1) rotate(0) translate(4 300)\">\n",
       "<title>G</title>\n",
       "<polygon fill=\"white\" points=\"-4,4 -4,-300 324,-300 324,4 -4,4\" stroke=\"none\"/>\n",
       "<!-- 140450380453480 -->\n",
       "<g class=\"node\" id=\"node1\"><title>140450380453480</title>\n",
       "<polygon fill=\"none\" points=\"34.5,-249.5 34.5,-295.5 285.5,-295.5 285.5,-249.5 34.5,-249.5\" stroke=\"black\"/>\n",
       "<text font-family=\"Times,serif\" font-size=\"14.00\" text-anchor=\"middle\" x=\"91\" y=\"-268.8\">Input: InputLayer</text>\n",
       "<polyline fill=\"none\" points=\"147.5,-249.5 147.5,-295.5 \" stroke=\"black\"/>\n",
       "<text font-family=\"Times,serif\" font-size=\"14.00\" text-anchor=\"middle\" x=\"175\" y=\"-280.3\">input:</text>\n",
       "<polyline fill=\"none\" points=\"147.5,-272.5 202.5,-272.5 \" stroke=\"black\"/>\n",
       "<text font-family=\"Times,serif\" font-size=\"14.00\" text-anchor=\"middle\" x=\"175\" y=\"-257.3\">output:</text>\n",
       "<polyline fill=\"none\" points=\"202.5,-249.5 202.5,-295.5 \" stroke=\"black\"/>\n",
       "<text font-family=\"Times,serif\" font-size=\"14.00\" text-anchor=\"middle\" x=\"244\" y=\"-280.3\">(None, 500)</text>\n",
       "<polyline fill=\"none\" points=\"202.5,-272.5 285.5,-272.5 \" stroke=\"black\"/>\n",
       "<text font-family=\"Times,serif\" font-size=\"14.00\" text-anchor=\"middle\" x=\"244\" y=\"-257.3\">(None, 500)</text>\n",
       "</g>\n",
       "<!-- 140450380453592 -->\n",
       "<g class=\"node\" id=\"node2\"><title>140450380453592</title>\n",
       "<polygon fill=\"none\" points=\"0,-166.5 0,-212.5 320,-212.5 320,-166.5 0,-166.5\" stroke=\"black\"/>\n",
       "<text font-family=\"Times,serif\" font-size=\"14.00\" text-anchor=\"middle\" x=\"80.5\" y=\"-185.8\">embedding_5: Embedding</text>\n",
       "<polyline fill=\"none\" points=\"161,-166.5 161,-212.5 \" stroke=\"black\"/>\n",
       "<text font-family=\"Times,serif\" font-size=\"14.00\" text-anchor=\"middle\" x=\"188.5\" y=\"-197.3\">input:</text>\n",
       "<polyline fill=\"none\" points=\"161,-189.5 216,-189.5 \" stroke=\"black\"/>\n",
       "<text font-family=\"Times,serif\" font-size=\"14.00\" text-anchor=\"middle\" x=\"188.5\" y=\"-174.3\">output:</text>\n",
       "<polyline fill=\"none\" points=\"216,-166.5 216,-212.5 \" stroke=\"black\"/>\n",
       "<text font-family=\"Times,serif\" font-size=\"14.00\" text-anchor=\"middle\" x=\"268\" y=\"-197.3\">(None, 500)</text>\n",
       "<polyline fill=\"none\" points=\"216,-189.5 320,-189.5 \" stroke=\"black\"/>\n",
       "<text font-family=\"Times,serif\" font-size=\"14.00\" text-anchor=\"middle\" x=\"268\" y=\"-174.3\">(None, 500, 32)</text>\n",
       "</g>\n",
       "<!-- 140450380453480&#45;&gt;140450380453592 -->\n",
       "<g class=\"edge\" id=\"edge1\"><title>140450380453480-&gt;140450380453592</title>\n",
       "<path d=\"M160,-249.366C160,-241.152 160,-231.658 160,-222.725\" fill=\"none\" stroke=\"black\"/>\n",
       "<polygon fill=\"black\" points=\"163.5,-222.607 160,-212.607 156.5,-222.607 163.5,-222.607\" stroke=\"black\"/>\n",
       "</g>\n",
       "<!-- 140450380564464 -->\n",
       "<g class=\"node\" id=\"node3\"><title>140450380564464</title>\n",
       "<polygon fill=\"none\" points=\"31.5,-83.5 31.5,-129.5 288.5,-129.5 288.5,-83.5 31.5,-83.5\" stroke=\"black\"/>\n",
       "<text font-family=\"Times,serif\" font-size=\"14.00\" text-anchor=\"middle\" x=\"80.5\" y=\"-102.8\">lstm_5: LSTM</text>\n",
       "<polyline fill=\"none\" points=\"129.5,-83.5 129.5,-129.5 \" stroke=\"black\"/>\n",
       "<text font-family=\"Times,serif\" font-size=\"14.00\" text-anchor=\"middle\" x=\"157\" y=\"-114.3\">input:</text>\n",
       "<polyline fill=\"none\" points=\"129.5,-106.5 184.5,-106.5 \" stroke=\"black\"/>\n",
       "<text font-family=\"Times,serif\" font-size=\"14.00\" text-anchor=\"middle\" x=\"157\" y=\"-91.3\">output:</text>\n",
       "<polyline fill=\"none\" points=\"184.5,-83.5 184.5,-129.5 \" stroke=\"black\"/>\n",
       "<text font-family=\"Times,serif\" font-size=\"14.00\" text-anchor=\"middle\" x=\"236.5\" y=\"-114.3\">(None, 500, 32)</text>\n",
       "<polyline fill=\"none\" points=\"184.5,-106.5 288.5,-106.5 \" stroke=\"black\"/>\n",
       "<text font-family=\"Times,serif\" font-size=\"14.00\" text-anchor=\"middle\" x=\"236.5\" y=\"-91.3\">(None, 32)</text>\n",
       "</g>\n",
       "<!-- 140450380453592&#45;&gt;140450380564464 -->\n",
       "<g class=\"edge\" id=\"edge2\"><title>140450380453592-&gt;140450380564464</title>\n",
       "<path d=\"M160,-166.366C160,-158.152 160,-148.658 160,-139.725\" fill=\"none\" stroke=\"black\"/>\n",
       "<polygon fill=\"black\" points=\"163.5,-139.607 160,-129.607 156.5,-139.607 163.5,-139.607\" stroke=\"black\"/>\n",
       "</g>\n",
       "<!-- 140450380547632 -->\n",
       "<g class=\"node\" id=\"node4\"><title>140450380547632</title>\n",
       "<polygon fill=\"none\" points=\"43.5,-0.5 43.5,-46.5 276.5,-46.5 276.5,-0.5 43.5,-0.5\" stroke=\"black\"/>\n",
       "<text font-family=\"Times,serif\" font-size=\"14.00\" text-anchor=\"middle\" x=\"94.5\" y=\"-19.8\">dense_4: Dense</text>\n",
       "<polyline fill=\"none\" points=\"145.5,-0.5 145.5,-46.5 \" stroke=\"black\"/>\n",
       "<text font-family=\"Times,serif\" font-size=\"14.00\" text-anchor=\"middle\" x=\"173\" y=\"-31.3\">input:</text>\n",
       "<polyline fill=\"none\" points=\"145.5,-23.5 200.5,-23.5 \" stroke=\"black\"/>\n",
       "<text font-family=\"Times,serif\" font-size=\"14.00\" text-anchor=\"middle\" x=\"173\" y=\"-8.3\">output:</text>\n",
       "<polyline fill=\"none\" points=\"200.5,-0.5 200.5,-46.5 \" stroke=\"black\"/>\n",
       "<text font-family=\"Times,serif\" font-size=\"14.00\" text-anchor=\"middle\" x=\"238.5\" y=\"-31.3\">(None, 32)</text>\n",
       "<polyline fill=\"none\" points=\"200.5,-23.5 276.5,-23.5 \" stroke=\"black\"/>\n",
       "<text font-family=\"Times,serif\" font-size=\"14.00\" text-anchor=\"middle\" x=\"238.5\" y=\"-8.3\">(None, 1)</text>\n",
       "</g>\n",
       "<!-- 140450380564464&#45;&gt;140450380547632 -->\n",
       "<g class=\"edge\" id=\"edge3\"><title>140450380564464-&gt;140450380547632</title>\n",
       "<path d=\"M160,-83.3664C160,-75.1516 160,-65.6579 160,-56.7252\" fill=\"none\" stroke=\"black\"/>\n",
       "<polygon fill=\"black\" points=\"163.5,-56.6068 160,-46.6068 156.5,-56.6069 163.5,-56.6068\" stroke=\"black\"/>\n",
       "</g>\n",
       "</g>\n",
       "</svg>"
      ],
      "text/plain": [
       "<IPython.core.display.SVG object>"
      ]
     },
     "execution_count": 31,
     "metadata": {},
     "output_type": "execute_result"
    }
   ],
   "source": [
    "model.summary()\n",
    "SVG(model_to_dot(model,show_shapes=True,show_layer_names=True).create(prog='dot', format='svg'))"
   ]
  },
  {
   "cell_type": "code",
   "execution_count": 32,
   "metadata": {},
   "outputs": [
    {
     "name": "stdout",
     "output_type": "stream",
     "text": [
      "Train on 20000 samples, validate on 5000 samples\n",
      "Epoch 1/10\n",
      "20000/20000 [==============================] - 262s 13ms/step - loss: 0.5039 - acc: 0.7522 - val_loss: 0.3264 - val_acc: 0.8694\n",
      "Epoch 2/10\n",
      "20000/20000 [==============================] - 259s 13ms/step - loss: 0.2586 - acc: 0.9009 - val_loss: 0.2987 - val_acc: 0.8736\n",
      "Epoch 3/10\n",
      "20000/20000 [==============================] - 256s 13ms/step - loss: 0.1854 - acc: 0.9344 - val_loss: 0.3045 - val_acc: 0.8784\n",
      "Epoch 4/10\n",
      "20000/20000 [==============================] - 256s 13ms/step - loss: 0.1416 - acc: 0.9519 - val_loss: 0.3189 - val_acc: 0.8806\n",
      "Epoch 5/10\n",
      "20000/20000 [==============================] - 255s 13ms/step - loss: 0.1051 - acc: 0.9670 - val_loss: 0.3497 - val_acc: 0.8678\n",
      "Epoch 6/10\n",
      "20000/20000 [==============================] - 260s 13ms/step - loss: 0.1019 - acc: 0.9662 - val_loss: 0.3772 - val_acc: 0.8682\n",
      "Epoch 7/10\n",
      "20000/20000 [==============================] - 263s 13ms/step - loss: 0.0871 - acc: 0.9710 - val_loss: 0.4181 - val_acc: 0.8732\n",
      "Epoch 8/10\n",
      "20000/20000 [==============================] - 255s 13ms/step - loss: 0.0640 - acc: 0.9801 - val_loss: 0.4156 - val_acc: 0.8678\n",
      "Epoch 9/10\n",
      "20000/20000 [==============================] - 259s 13ms/step - loss: 0.1123 - acc: 0.9571 - val_loss: 0.4328 - val_acc: 0.8694\n",
      "Epoch 10/10\n",
      "20000/20000 [==============================] - 259s 13ms/step - loss: 0.0563 - acc: 0.9830 - val_loss: 0.4928 - val_acc: 0.8630\n"
     ]
    }
   ],
   "source": [
    "history = model.fit(Xf_train, y_train, epochs=10, batch_size=128, validation_split=0.2)"
   ]
  },
  {
   "cell_type": "code",
   "execution_count": 33,
   "metadata": {},
   "outputs": [
    {
     "data": {
      "image/png": "[encoded data removed]",
      "text/plain": [
       "<Figure size 936x360 with 2 Axes>"
      ]
     },
     "metadata": {
      "needs_background": "light"
     },
     "output_type": "display_data"
    }
   ],
   "source": [
    "acc = history.history['acc']\n",
    "val_acc = history.history['val_acc']\n",
    "loss = history.history['loss']\n",
    "val_loss = history.history['val_loss']\n",
    "\n",
    "epochs = np.arange(len(acc))\n",
    "\n",
    "plt.figure(figsize=(13,5))\n",
    "plt.subplot(121)\n",
    "plt.plot(epochs, acc, 'b', label='Training acc')\n",
    "plt.plot(epochs, val_acc, 'r', label='Validation acc')\n",
    "plt.legend()\n",
    "plt.title('Training and validation accuracy')\n",
    "\n",
    "plt.subplot(122)\n",
    "plt.plot(epochs, loss, 'b', label='Training loss')\n",
    "plt.plot(epochs, val_loss, 'r', label='Validation loss')\n",
    "plt.title('Training and validation loss')\n",
    "plt.legend()\n",
    "\n",
    "plt.show()"
   ]
  },
  {
   "cell_type": "code",
   "execution_count": 34,
   "metadata": {},
   "outputs": [],
   "source": [
    "pr_tr = model.predict(Xf_train)\n",
    "pr_ts = model.predict(Xf_test)"
   ]
  },
  {
   "cell_type": "code",
   "execution_count": 35,
   "metadata": {},
   "outputs": [
    {
     "name": "stdout",
     "output_type": "stream",
     "text": [
      "Training Accuracy :  0.96224\n",
      "Testing  Accuracy :  0.85476\n"
     ]
    }
   ],
   "source": [
    "print('Training Accuracy : ',np.mean(y_train==1*(pr_tr>0.5)[:,0]))\n",
    "print('Testing  Accuracy : ',np.mean(y_test==1*(pr_ts>0.5)[:,0]))"
   ]
  },
  {
   "cell_type": "markdown",
   "metadata": {},
   "source": [
    "## Sequence (variable length) to a class label"
   ]
  },
  {
   "cell_type": "markdown",
   "metadata": {},
   "source": [
    "**For using variable input length, firt we set input dimention of model to None and for training there are few ways:**\n",
    "\n",
    "* Train a model on one sample at a time\n",
    "* Create  batches of data with same size and train on each batch.  It is efficient If only the input length belongs to small set of values.\n",
    "\n",
    "**For both of the above approaches, we will creat a generator, which draw one sample (one batch of same size) at a time from taining set.**"
   ]
  },
  {
   "cell_type": "code",
   "execution_count": 71,
   "metadata": {},
   "outputs": [
    {
     "name": "stdout",
     "output_type": "stream",
     "text": [
      "_________________________________________________________________\n",
      "Layer (type)                 Output Shape              Param #   \n",
      "=================================================================\n",
      "Input (InputLayer)           (None, None)              0         \n",
      "_________________________________________________________________\n",
      "Embedding (Embedding)        (None, None, 32)          320000    \n",
      "_________________________________________________________________\n",
      "LSTM1 (LSTM)                 (None, 32)                8320      \n",
      "_________________________________________________________________\n",
      "output (Dense)               (None, 1)                 33        \n",
      "=================================================================\n",
      "Total params: 328,353\n",
      "Trainable params: 328,353\n",
      "Non-trainable params: 0\n",
      "_________________________________________________________________\n"
     ]
    },
    {
     "data": {
      "image/svg+xml": [
       "<svg height=\"304pt\" viewBox=\"0.00 0.00 326.00 304.00\" width=\"326pt\" xmlns=\"http://www.w3.org/2000/svg\" xmlns:xlink=\"http://www.w3.org/1999/xlink\">\n",
       "<g class=\"graph\" id=\"graph0\" transform=\"scale(1 1) rotate(0) translate(4 300)\">\n",
       "<title>G</title>\n",
       "<polygon fill=\"white\" points=\"-4,4 -4,-300 322,-300 322,4 -4,4\" stroke=\"none\"/>\n",
       "<!-- 140450395427616 -->\n",
       "<g class=\"node\" id=\"node1\"><title>140450395427616</title>\n",
       "<polygon fill=\"none\" points=\"29,-249.5 29,-295.5 289,-295.5 289,-249.5 29,-249.5\" stroke=\"black\"/>\n",
       "<text font-family=\"Times,serif\" font-size=\"14.00\" text-anchor=\"middle\" x=\"85.5\" y=\"-268.8\">Input: InputLayer</text>\n",
       "<polyline fill=\"none\" points=\"142,-249.5 142,-295.5 \" stroke=\"black\"/>\n",
       "<text font-family=\"Times,serif\" font-size=\"14.00\" text-anchor=\"middle\" x=\"169.5\" y=\"-280.3\">input:</text>\n",
       "<polyline fill=\"none\" points=\"142,-272.5 197,-272.5 \" stroke=\"black\"/>\n",
       "<text font-family=\"Times,serif\" font-size=\"14.00\" text-anchor=\"middle\" x=\"169.5\" y=\"-257.3\">output:</text>\n",
       "<polyline fill=\"none\" points=\"197,-249.5 197,-295.5 \" stroke=\"black\"/>\n",
       "<text font-family=\"Times,serif\" font-size=\"14.00\" text-anchor=\"middle\" x=\"243\" y=\"-280.3\">(None, None)</text>\n",
       "<polyline fill=\"none\" points=\"197,-272.5 289,-272.5 \" stroke=\"black\"/>\n",
       "<text font-family=\"Times,serif\" font-size=\"14.00\" text-anchor=\"middle\" x=\"243\" y=\"-257.3\">(None, None)</text>\n",
       "</g>\n",
       "<!-- 140450395427672 -->\n",
       "<g class=\"node\" id=\"node2\"><title>140450395427672</title>\n",
       "<polygon fill=\"none\" points=\"-2.84217e-14,-166.5 -2.84217e-14,-212.5 318,-212.5 318,-166.5 -2.84217e-14,-166.5\" stroke=\"black\"/>\n",
       "<text font-family=\"Times,serif\" font-size=\"14.00\" text-anchor=\"middle\" x=\"75\" y=\"-185.8\">Embedding: Embedding</text>\n",
       "<polyline fill=\"none\" points=\"150,-166.5 150,-212.5 \" stroke=\"black\"/>\n",
       "<text font-family=\"Times,serif\" font-size=\"14.00\" text-anchor=\"middle\" x=\"177.5\" y=\"-197.3\">input:</text>\n",
       "<polyline fill=\"none\" points=\"150,-189.5 205,-189.5 \" stroke=\"black\"/>\n",
       "<text font-family=\"Times,serif\" font-size=\"14.00\" text-anchor=\"middle\" x=\"177.5\" y=\"-174.3\">output:</text>\n",
       "<polyline fill=\"none\" points=\"205,-166.5 205,-212.5 \" stroke=\"black\"/>\n",
       "<text font-family=\"Times,serif\" font-size=\"14.00\" text-anchor=\"middle\" x=\"261.5\" y=\"-197.3\">(None, None)</text>\n",
       "<polyline fill=\"none\" points=\"205,-189.5 318,-189.5 \" stroke=\"black\"/>\n",
       "<text font-family=\"Times,serif\" font-size=\"14.00\" text-anchor=\"middle\" x=\"261.5\" y=\"-174.3\">(None, None, 32)</text>\n",
       "</g>\n",
       "<!-- 140450395427616&#45;&gt;140450395427672 -->\n",
       "<g class=\"edge\" id=\"edge1\"><title>140450395427616-&gt;140450395427672</title>\n",
       "<path d=\"M159,-249.366C159,-241.152 159,-231.658 159,-222.725\" fill=\"none\" stroke=\"black\"/>\n",
       "<polygon fill=\"black\" points=\"162.5,-222.607 159,-212.607 155.5,-222.607 162.5,-222.607\" stroke=\"black\"/>\n",
       "</g>\n",
       "<!-- 140450395499768 -->\n",
       "<g class=\"node\" id=\"node3\"><title>140450395499768</title>\n",
       "<polygon fill=\"none\" points=\"23,-83.5 23,-129.5 295,-129.5 295,-83.5 23,-83.5\" stroke=\"black\"/>\n",
       "<text font-family=\"Times,serif\" font-size=\"14.00\" text-anchor=\"middle\" x=\"75\" y=\"-102.8\">LSTM1: LSTM</text>\n",
       "<polyline fill=\"none\" points=\"127,-83.5 127,-129.5 \" stroke=\"black\"/>\n",
       "<text font-family=\"Times,serif\" font-size=\"14.00\" text-anchor=\"middle\" x=\"154.5\" y=\"-114.3\">input:</text>\n",
       "<polyline fill=\"none\" points=\"127,-106.5 182,-106.5 \" stroke=\"black\"/>\n",
       "<text font-family=\"Times,serif\" font-size=\"14.00\" text-anchor=\"middle\" x=\"154.5\" y=\"-91.3\">output:</text>\n",
       "<polyline fill=\"none\" points=\"182,-83.5 182,-129.5 \" stroke=\"black\"/>\n",
       "<text font-family=\"Times,serif\" font-size=\"14.00\" text-anchor=\"middle\" x=\"238.5\" y=\"-114.3\">(None, None, 32)</text>\n",
       "<polyline fill=\"none\" points=\"182,-106.5 295,-106.5 \" stroke=\"black\"/>\n",
       "<text font-family=\"Times,serif\" font-size=\"14.00\" text-anchor=\"middle\" x=\"238.5\" y=\"-91.3\">(None, 32)</text>\n",
       "</g>\n",
       "<!-- 140450395427672&#45;&gt;140450395499768 -->\n",
       "<g class=\"edge\" id=\"edge2\"><title>140450395427672-&gt;140450395499768</title>\n",
       "<path d=\"M159,-166.366C159,-158.152 159,-148.658 159,-139.725\" fill=\"none\" stroke=\"black\"/>\n",
       "<polygon fill=\"black\" points=\"162.5,-139.607 159,-129.607 155.5,-139.607 162.5,-139.607\" stroke=\"black\"/>\n",
       "</g>\n",
       "<!-- 140450393991656 -->\n",
       "<g class=\"node\" id=\"node4\"><title>140450393991656</title>\n",
       "<polygon fill=\"none\" points=\"47.5,-0.5 47.5,-46.5 270.5,-46.5 270.5,-0.5 47.5,-0.5\" stroke=\"black\"/>\n",
       "<text font-family=\"Times,serif\" font-size=\"14.00\" text-anchor=\"middle\" x=\"93.5\" y=\"-19.8\">output: Dense</text>\n",
       "<polyline fill=\"none\" points=\"139.5,-0.5 139.5,-46.5 \" stroke=\"black\"/>\n",
       "<text font-family=\"Times,serif\" font-size=\"14.00\" text-anchor=\"middle\" x=\"167\" y=\"-31.3\">input:</text>\n",
       "<polyline fill=\"none\" points=\"139.5,-23.5 194.5,-23.5 \" stroke=\"black\"/>\n",
       "<text font-family=\"Times,serif\" font-size=\"14.00\" text-anchor=\"middle\" x=\"167\" y=\"-8.3\">output:</text>\n",
       "<polyline fill=\"none\" points=\"194.5,-0.5 194.5,-46.5 \" stroke=\"black\"/>\n",
       "<text font-family=\"Times,serif\" font-size=\"14.00\" text-anchor=\"middle\" x=\"232.5\" y=\"-31.3\">(None, 32)</text>\n",
       "<polyline fill=\"none\" points=\"194.5,-23.5 270.5,-23.5 \" stroke=\"black\"/>\n",
       "<text font-family=\"Times,serif\" font-size=\"14.00\" text-anchor=\"middle\" x=\"232.5\" y=\"-8.3\">(None, 1)</text>\n",
       "</g>\n",
       "<!-- 140450395499768&#45;&gt;140450393991656 -->\n",
       "<g class=\"edge\" id=\"edge3\"><title>140450395499768-&gt;140450393991656</title>\n",
       "<path d=\"M159,-83.3664C159,-75.1516 159,-65.6579 159,-56.7252\" fill=\"none\" stroke=\"black\"/>\n",
       "<polygon fill=\"black\" points=\"162.5,-56.6068 159,-46.6068 155.5,-56.6069 162.5,-56.6068\" stroke=\"black\"/>\n",
       "</g>\n",
       "</g>\n",
       "</svg>"
      ],
      "text/plain": [
       "<IPython.core.display.SVG object>"
      ]
     },
     "execution_count": 71,
     "metadata": {},
     "output_type": "execute_result"
    }
   ],
   "source": [
    "inputs = Input(shape=(None,),name='Input')\n",
    "x = Embedding(nWordsfromData, 32,name='Embedding')(inputs)\n",
    "x = LSTM(32,name='LSTM1')(x)\n",
    "output = Dense(1, activation='sigmoid',name='output')(x)\n",
    "model = Model(inputs=inputs, outputs=output)\n",
    "model.compile(optimizer='adam', loss='binary_crossentropy', metrics=['acc'])\n",
    "\n",
    "model.summary()\n",
    "SVG(model_to_dot(model,show_shapes=True,show_layer_names=True).create(prog='dot', format='svg'))"
   ]
  },
  {
   "cell_type": "markdown",
   "metadata": {},
   "source": [
    "### Generators - one sample at a time (slow)"
   ]
  },
  {
   "cell_type": "code",
   "execution_count": 72,
   "metadata": {},
   "outputs": [],
   "source": [
    "idx=0\n",
    "Idx = np.random.permutation(len(X_train))\n",
    "def train_gen():\n",
    "    global idx\n",
    "    while True:\n",
    "        xi_train = X_train[Idx[idx]]\n",
    "        yi_train = y_train[Idx[idx]]\n",
    "        idx=(idx+1)%len(Idx)\n",
    "        yield np.array([xi_train]), np.array([[yi_train]])\n",
    "        \n",
    "        \n",
    "idy=0\n",
    "Idy = np.random.permutation(len(X_test))\n",
    "def test_gen():\n",
    "    global idy\n",
    "    while True:\n",
    "        xi_test = X_test[Idy[idy]]\n",
    "        yi_test = y_test[Idy[idy]]\n",
    "        idy=(idy+1)%len(Idy)\n",
    "        yield np.array([xi_test]), np.array([[yi_test]])"
   ]
  },
  {
   "cell_type": "code",
   "execution_count": 73,
   "metadata": {
    "scrolled": true
   },
   "outputs": [
    {
     "name": "stdout",
     "output_type": "stream",
     "text": [
      "Epoch 1/10\n",
      "25000/25000 [==============================] - 11370s 455ms/step - loss: 0.4396 - acc: 0.7989 - val_loss: 0.3368 - val_acc: 0.8611\n",
      "Epoch 2/10\n",
      "25000/25000 [==============================] - 5680s 227ms/step - loss: 0.2710 - acc: 0.8919 - val_loss: 0.2976 - val_acc: 0.8811\n",
      "Epoch 3/10\n",
      "25000/25000 [==============================] - 2520s 101ms/step - loss: 0.1901 - acc: 0.9296 - val_loss: 0.3011 - val_acc: 0.8833\n",
      "Epoch 4/10\n",
      "25000/25000 [==============================] - 2525s 101ms/step - loss: 0.1333 - acc: 0.9536 - val_loss: 0.3055 - val_acc: 0.8866\n",
      "Epoch 5/10\n",
      "25000/25000 [==============================] - 2529s 101ms/step - loss: 0.0904 - acc: 0.9705 - val_loss: 0.3769 - val_acc: 0.8820\n",
      "Epoch 6/10\n",
      "25000/25000 [==============================] - 2534s 101ms/step - loss: 0.0636 - acc: 0.9804 - val_loss: 0.4637 - val_acc: 0.8777\n",
      "Epoch 7/10\n",
      "25000/25000 [==============================] - 2538s 102ms/step - loss: 0.0446 - acc: 0.9861 - val_loss: 0.4901 - val_acc: 0.8721\n",
      "Epoch 8/10\n",
      "25000/25000 [==============================] - 2558s 102ms/step - loss: 0.0301 - acc: 0.9913 - val_loss: 0.5207 - val_acc: 0.8712\n",
      "Epoch 9/10\n",
      "25000/25000 [==============================] - 2559s 102ms/step - loss: 0.0221 - acc: 0.9938 - val_loss: 0.5778 - val_acc: 0.8672\n",
      "Epoch 10/10\n",
      "25000/25000 [==============================] - 2426s 97ms/step - loss: 0.0166 - acc: 0.9951 - val_loss: 0.6225 - val_acc: 0.8634\n"
     ]
    },
    {
     "data": {
      "text/plain": [
       "<keras.callbacks.History at 0x7fbd27ed2780>"
      ]
     },
     "execution_count": 73,
     "metadata": {},
     "output_type": "execute_result"
    }
   ],
   "source": [
    "model.fit_generator(train_gen(),steps_per_epoch=len(X_train),epochs=10, verbose=1,\n",
    "                    validation_data=test_gen(),validation_steps=len(X_test))"
   ]
  },
  {
   "cell_type": "code",
   "execution_count": 129,
   "metadata": {},
   "outputs": [],
   "source": [
    "pr_tr = np.array([model.predict(np.array([X_train[i]])) for i in range(len(X_train))])\n",
    "pr_ts = np.array([model.predict(np.array([X_test[i]]))  for i in range(len(X_test))])"
   ]
  },
  {
   "cell_type": "code",
   "execution_count": 139,
   "metadata": {},
   "outputs": [
    {
     "name": "stdout",
     "output_type": "stream",
     "text": [
      "Training Accuracy :  0.81824\n",
      "Testing  Accuracy :  0.75152\n"
     ]
    }
   ],
   "source": [
    "print('Training Accuracy : ',np.mean(y_train==1*(pr_tr[:,0,0]>0.5)))\n",
    "print('Testing  Accuracy : ',np.mean(y_test==1*(pr_ts[:,0,0]>0.5)))"
   ]
  },
  {
   "cell_type": "code",
   "execution_count": null,
   "metadata": {},
   "outputs": [],
   "source": [
    "pr_tr = model.predict(input_train)\n",
    "pr_ts = model.predict(input_test)\n",
    "print('Training Accuracy : ',np.mean(y_train==1*(pr_tr>0.5)[:,0]))\n",
    "print('Testing  Accuracy : ',np.mean(y_test==1*(pr_ts>0.5)[:,0]))"
   ]
  },
  {
   "cell_type": "markdown",
   "metadata": {},
   "source": [
    "### Generators - one batch at a time  (faster)"
   ]
  },
  {
   "cell_type": "code",
   "execution_count": 55,
   "metadata": {},
   "outputs": [],
   "source": [
    "ln  = [len(X_train[i]) for i in range(len(X_train))]\n",
    "uln,frq = np.unique(ln,return_counts=True)"
   ]
  },
  {
   "cell_type": "code",
   "execution_count": 56,
   "metadata": {
    "collapsed": true
   },
   "outputs": [
    {
     "data": {
      "text/plain": [
       "[<matplotlib.lines.Line2D at 0x7fbd22effa58>]"
      ]
     },
     "execution_count": 56,
     "metadata": {},
     "output_type": "execute_result"
    },
    {
     "data": {
      "image/png": "[encoded data removed]",
      "text/plain": [
       "<Figure size 432x288 with 1 Axes>"
      ]
     },
     "metadata": {
      "needs_background": "light"
     },
     "output_type": "display_data"
    }
   ],
   "source": [
    "plt.plot(frq)"
   ]
  },
  {
   "cell_type": "code",
   "execution_count": 57,
   "metadata": {},
   "outputs": [],
   "source": [
    "ln  = [len(X_train[i]) for i in range(len(X_train))]\n",
    "uln = np.unique(ln)\n",
    "LX  = [np.where(ln==u)[0] for u in uln]\n",
    "XT  = [np.array([X_train[i] for i in lx]) for lx in LX]\n",
    "YT  = [np.array([y_train[i] for i in lx]) for lx in LX]\n",
    "\n",
    "ln  = np.array([len(X_test[i])  for i in range(len(X_test))])\n",
    "uln = np.unique(ln)\n",
    "LX  = [np.where(ln==u)[0] for u in uln]\n",
    "XV  = [np.array([X_test[i] for i in lx]) for lx in LX]\n",
    "YV  = [np.array([y_test[i] for i in lx]) for lx in LX]\n",
    "\n",
    "idxb=0\n",
    "Idxb = np.random.permutation(len(XT))\n",
    "def train_gen_batch():\n",
    "    global idxb\n",
    "    while True:\n",
    "        xi_train = XT[Idxb[idxb]]\n",
    "        yi_train = YT[Idxb[idxb]]\n",
    "        idxb=(idxb+1)%len(Idxb)\n",
    "        yield xi_train, yi_train\n",
    "        \n",
    "        \n",
    "idyb=0\n",
    "Idyb = np.random.permutation(len(XV))\n",
    "def test_gen_batch():\n",
    "    global idyb\n",
    "    while True:\n",
    "        xi_test = XV[Idyb[idyb]]\n",
    "        yi_test = YV[Idyb[idyb]]\n",
    "        idyb=(idyb+1)%len(Idyb)\n",
    "        yield xi_test, yi_test"
   ]
  },
  {
   "cell_type": "code",
   "execution_count": 62,
   "metadata": {},
   "outputs": [],
   "source": [
    "inputs = Input(shape=(None,),name='Input')\n",
    "x = Embedding(nWordsfromData, 32,name='Embedding')(inputs)\n",
    "x = LSTM(32,name='LSTM1')(x)\n",
    "output = Dense(1, activation='sigmoid',name='output')(x)\n",
    "model = Model(inputs=inputs, outputs=output)\n",
    "model.compile(optimizer='adam', loss='binary_crossentropy', metrics=['acc'])"
   ]
  },
  {
   "cell_type": "code",
   "execution_count": 70,
   "metadata": {},
   "outputs": [
    {
     "name": "stdout",
     "output_type": "stream",
     "text": [
      "_________________________________________________________________\n",
      "Layer (type)                 Output Shape              Param #   \n",
      "=================================================================\n",
      "Input (InputLayer)           (None, None)              0         \n",
      "_________________________________________________________________\n",
      "Embedding (Embedding)        (None, None, 32)          320000    \n",
      "_________________________________________________________________\n",
      "LSTM1 (LSTM)                 (None, 32)                8320      \n",
      "_________________________________________________________________\n",
      "output (Dense)               (None, 1)                 33        \n",
      "=================================================================\n",
      "Total params: 328,353\n",
      "Trainable params: 328,353\n",
      "Non-trainable params: 0\n",
      "_________________________________________________________________\n"
     ]
    },
    {
     "data": {
      "image/svg+xml": [
       "<svg height=\"304pt\" viewBox=\"0.00 0.00 326.00 304.00\" width=\"326pt\" xmlns=\"http://www.w3.org/2000/svg\" xmlns:xlink=\"http://www.w3.org/1999/xlink\">\n",
       "<g class=\"graph\" id=\"graph0\" transform=\"scale(1 1) rotate(0) translate(4 300)\">\n",
       "<title>G</title>\n",
       "<polygon fill=\"white\" points=\"-4,4 -4,-300 322,-300 322,4 -4,4\" stroke=\"none\"/>\n",
       "<!-- 140450344520840 -->\n",
       "<g class=\"node\" id=\"node1\"><title>140450344520840</title>\n",
       "<polygon fill=\"none\" points=\"29,-249.5 29,-295.5 289,-295.5 289,-249.5 29,-249.5\" stroke=\"black\"/>\n",
       "<text font-family=\"Times,serif\" font-size=\"14.00\" text-anchor=\"middle\" x=\"85.5\" y=\"-268.8\">Input: InputLayer</text>\n",
       "<polyline fill=\"none\" points=\"142,-249.5 142,-295.5 \" stroke=\"black\"/>\n",
       "<text font-family=\"Times,serif\" font-size=\"14.00\" text-anchor=\"middle\" x=\"169.5\" y=\"-280.3\">input:</text>\n",
       "<polyline fill=\"none\" points=\"142,-272.5 197,-272.5 \" stroke=\"black\"/>\n",
       "<text font-family=\"Times,serif\" font-size=\"14.00\" text-anchor=\"middle\" x=\"169.5\" y=\"-257.3\">output:</text>\n",
       "<polyline fill=\"none\" points=\"197,-249.5 197,-295.5 \" stroke=\"black\"/>\n",
       "<text font-family=\"Times,serif\" font-size=\"14.00\" text-anchor=\"middle\" x=\"243\" y=\"-280.3\">(None, None)</text>\n",
       "<polyline fill=\"none\" points=\"197,-272.5 289,-272.5 \" stroke=\"black\"/>\n",
       "<text font-family=\"Times,serif\" font-size=\"14.00\" text-anchor=\"middle\" x=\"243\" y=\"-257.3\">(None, None)</text>\n",
       "</g>\n",
       "<!-- 140450344520336 -->\n",
       "<g class=\"node\" id=\"node2\"><title>140450344520336</title>\n",
       "<polygon fill=\"none\" points=\"-2.84217e-14,-166.5 -2.84217e-14,-212.5 318,-212.5 318,-166.5 -2.84217e-14,-166.5\" stroke=\"black\"/>\n",
       "<text font-family=\"Times,serif\" font-size=\"14.00\" text-anchor=\"middle\" x=\"75\" y=\"-185.8\">Embedding: Embedding</text>\n",
       "<polyline fill=\"none\" points=\"150,-166.5 150,-212.5 \" stroke=\"black\"/>\n",
       "<text font-family=\"Times,serif\" font-size=\"14.00\" text-anchor=\"middle\" x=\"177.5\" y=\"-197.3\">input:</text>\n",
       "<polyline fill=\"none\" points=\"150,-189.5 205,-189.5 \" stroke=\"black\"/>\n",
       "<text font-family=\"Times,serif\" font-size=\"14.00\" text-anchor=\"middle\" x=\"177.5\" y=\"-174.3\">output:</text>\n",
       "<polyline fill=\"none\" points=\"205,-166.5 205,-212.5 \" stroke=\"black\"/>\n",
       "<text font-family=\"Times,serif\" font-size=\"14.00\" text-anchor=\"middle\" x=\"261.5\" y=\"-197.3\">(None, None)</text>\n",
       "<polyline fill=\"none\" points=\"205,-189.5 318,-189.5 \" stroke=\"black\"/>\n",
       "<text font-family=\"Times,serif\" font-size=\"14.00\" text-anchor=\"middle\" x=\"261.5\" y=\"-174.3\">(None, None, 32)</text>\n",
       "</g>\n",
       "<!-- 140450344520840&#45;&gt;140450344520336 -->\n",
       "<g class=\"edge\" id=\"edge1\"><title>140450344520840-&gt;140450344520336</title>\n",
       "<path d=\"M159,-249.366C159,-241.152 159,-231.658 159,-222.725\" fill=\"none\" stroke=\"black\"/>\n",
       "<polygon fill=\"black\" points=\"162.5,-222.607 159,-212.607 155.5,-222.607 162.5,-222.607\" stroke=\"black\"/>\n",
       "</g>\n",
       "<!-- 140450344521456 -->\n",
       "<g class=\"node\" id=\"node3\"><title>140450344521456</title>\n",
       "<polygon fill=\"none\" points=\"23,-83.5 23,-129.5 295,-129.5 295,-83.5 23,-83.5\" stroke=\"black\"/>\n",
       "<text font-family=\"Times,serif\" font-size=\"14.00\" text-anchor=\"middle\" x=\"75\" y=\"-102.8\">LSTM1: LSTM</text>\n",
       "<polyline fill=\"none\" points=\"127,-83.5 127,-129.5 \" stroke=\"black\"/>\n",
       "<text font-family=\"Times,serif\" font-size=\"14.00\" text-anchor=\"middle\" x=\"154.5\" y=\"-114.3\">input:</text>\n",
       "<polyline fill=\"none\" points=\"127,-106.5 182,-106.5 \" stroke=\"black\"/>\n",
       "<text font-family=\"Times,serif\" font-size=\"14.00\" text-anchor=\"middle\" x=\"154.5\" y=\"-91.3\">output:</text>\n",
       "<polyline fill=\"none\" points=\"182,-83.5 182,-129.5 \" stroke=\"black\"/>\n",
       "<text font-family=\"Times,serif\" font-size=\"14.00\" text-anchor=\"middle\" x=\"238.5\" y=\"-114.3\">(None, None, 32)</text>\n",
       "<polyline fill=\"none\" points=\"182,-106.5 295,-106.5 \" stroke=\"black\"/>\n",
       "<text font-family=\"Times,serif\" font-size=\"14.00\" text-anchor=\"middle\" x=\"238.5\" y=\"-91.3\">(None, 32)</text>\n",
       "</g>\n",
       "<!-- 140450344520336&#45;&gt;140450344521456 -->\n",
       "<g class=\"edge\" id=\"edge2\"><title>140450344520336-&gt;140450344521456</title>\n",
       "<path d=\"M159,-166.366C159,-158.152 159,-148.658 159,-139.725\" fill=\"none\" stroke=\"black\"/>\n",
       "<polygon fill=\"black\" points=\"162.5,-139.607 159,-129.607 155.5,-139.607 162.5,-139.607\" stroke=\"black\"/>\n",
       "</g>\n",
       "<!-- 140450344520448 -->\n",
       "<g class=\"node\" id=\"node4\"><title>140450344520448</title>\n",
       "<polygon fill=\"none\" points=\"47.5,-0.5 47.5,-46.5 270.5,-46.5 270.5,-0.5 47.5,-0.5\" stroke=\"black\"/>\n",
       "<text font-family=\"Times,serif\" font-size=\"14.00\" text-anchor=\"middle\" x=\"93.5\" y=\"-19.8\">output: Dense</text>\n",
       "<polyline fill=\"none\" points=\"139.5,-0.5 139.5,-46.5 \" stroke=\"black\"/>\n",
       "<text font-family=\"Times,serif\" font-size=\"14.00\" text-anchor=\"middle\" x=\"167\" y=\"-31.3\">input:</text>\n",
       "<polyline fill=\"none\" points=\"139.5,-23.5 194.5,-23.5 \" stroke=\"black\"/>\n",
       "<text font-family=\"Times,serif\" font-size=\"14.00\" text-anchor=\"middle\" x=\"167\" y=\"-8.3\">output:</text>\n",
       "<polyline fill=\"none\" points=\"194.5,-0.5 194.5,-46.5 \" stroke=\"black\"/>\n",
       "<text font-family=\"Times,serif\" font-size=\"14.00\" text-anchor=\"middle\" x=\"232.5\" y=\"-31.3\">(None, 32)</text>\n",
       "<polyline fill=\"none\" points=\"194.5,-23.5 270.5,-23.5 \" stroke=\"black\"/>\n",
       "<text font-family=\"Times,serif\" font-size=\"14.00\" text-anchor=\"middle\" x=\"232.5\" y=\"-8.3\">(None, 1)</text>\n",
       "</g>\n",
       "<!-- 140450344521456&#45;&gt;140450344520448 -->\n",
       "<g class=\"edge\" id=\"edge3\"><title>140450344521456-&gt;140450344520448</title>\n",
       "<path d=\"M159,-83.3664C159,-75.1516 159,-65.6579 159,-56.7252\" fill=\"none\" stroke=\"black\"/>\n",
       "<polygon fill=\"black\" points=\"162.5,-56.6068 159,-46.6068 155.5,-56.6069 162.5,-56.6068\" stroke=\"black\"/>\n",
       "</g>\n",
       "</g>\n",
       "</svg>"
      ],
      "text/plain": [
       "<IPython.core.display.SVG object>"
      ]
     },
     "execution_count": 70,
     "metadata": {},
     "output_type": "execute_result"
    }
   ],
   "source": [
    "model.summary()\n",
    "SVG(model_to_dot(model,show_shapes=True,show_layer_names=True).create(prog='dot', format='svg'))"
   ]
  },
  {
   "cell_type": "code",
   "execution_count": 63,
   "metadata": {
    "code_folding": [],
    "scrolled": false
   },
   "outputs": [
    {
     "name": "stdout",
     "output_type": "stream",
     "text": [
      "Epoch 1/10\n",
      "3024/3024 [==============================] - 730s 241ms/step - loss: 0.4288 - acc: 0.8008 - val_loss: 0.5290 - val_acc: 0.8006\n",
      "Epoch 2/10\n",
      "3024/3024 [==============================] - 807s 267ms/step - loss: 0.2394 - acc: 0.9062 - val_loss: 0.4557 - val_acc: 0.8185\n",
      "Epoch 3/10\n",
      "3024/3024 [==============================] - 804s 266ms/step - loss: 0.1286 - acc: 0.9576 - val_loss: 0.5419 - val_acc: 0.8188\n",
      "Epoch 4/10\n",
      "3024/3024 [==============================] - 785s 259ms/step - loss: 0.0973 - acc: 0.9677 - val_loss: 0.5414 - val_acc: 0.8434\n",
      "Epoch 5/10\n",
      "3024/3024 [==============================] - 721s 239ms/step - loss: 0.0708 - acc: 0.9804 - val_loss: 0.5744 - val_acc: 0.8481\n",
      "Epoch 6/10\n",
      "3024/3024 [==============================] - 725s 240ms/step - loss: 0.0725 - acc: 0.9770 - val_loss: 0.5899 - val_acc: 0.8414\n",
      "Epoch 7/10\n",
      "3024/3024 [==============================] - 721s 239ms/step - loss: 0.0550 - acc: 0.9826 - val_loss: 0.6528 - val_acc: 0.8462\n",
      "Epoch 8/10\n",
      "3024/3024 [==============================] - 715s 236ms/step - loss: 0.0270 - acc: 0.9923 - val_loss: 0.7511 - val_acc: 0.8357\n",
      "Epoch 9/10\n",
      "3024/3024 [==============================] - 726s 240ms/step - loss: 0.0247 - acc: 0.9926 - val_loss: 0.7384 - val_acc: 0.8438\n",
      "Epoch 10/10\n",
      "3024/3024 [==============================] - 753s 249ms/step - loss: 0.0199 - acc: 0.9946 - val_loss: 0.7749 - val_acc: 0.8438\n"
     ]
    }
   ],
   "source": [
    "history = model.fit_generator(train_gen_batch(),steps_per_epoch=3*len(XT),epochs=10, verbose=1,\n",
    "                    validation_data=test_gen_batch(),validation_steps=3*len(XV))"
   ]
  },
  {
   "cell_type": "code",
   "execution_count": 69,
   "metadata": {},
   "outputs": [
    {
     "data": {
      "image/png": "[encoded data removed]",
      "text/plain": [
       "<Figure size 936x360 with 2 Axes>"
      ]
     },
     "metadata": {
      "needs_background": "light"
     },
     "output_type": "display_data"
    }
   ],
   "source": [
    "acc = history.history['acc']\n",
    "val_acc = history.history['val_acc']\n",
    "loss = history.history['loss']\n",
    "val_loss = history.history['val_loss']\n",
    "\n",
    "epochs = np.arange(len(acc))\n",
    "\n",
    "plt.figure(figsize=(13,5))\n",
    "plt.subplot(121)\n",
    "plt.plot(epochs, acc, 'b', label='Training acc')\n",
    "plt.plot(epochs, val_acc, 'r', label='Testing acc')\n",
    "plt.legend()\n",
    "plt.title('Training and Testing accuracy')\n",
    "\n",
    "plt.subplot(122)\n",
    "plt.plot(epochs, loss, 'b', label='Training loss')\n",
    "plt.plot(epochs, val_loss, 'r', label='Testing loss')\n",
    "plt.title('Training and Testing loss')\n",
    "plt.legend()\n",
    "\n",
    "plt.show()"
   ]
  },
  {
   "cell_type": "code",
   "execution_count": 66,
   "metadata": {},
   "outputs": [
    {
     "name": "stdout",
     "output_type": "stream",
     "text": [
      "Training Accuracy :  0.99424\n",
      "Testing  Accuracy :  0.84384\n"
     ]
    }
   ],
   "source": [
    "pr_tr = np.array([model.predict(np.array([X_train[i]])) for i in range(len(X_train))])\n",
    "pr_ts = np.array([model.predict(np.array([X_test[i]]))  for i in range(len(X_test))])\n",
    "print('Training Accuracy : ',np.mean(y_train==1*(pr_tr[:,0,0]>0.5)))\n",
    "print('Testing  Accuracy : ',np.mean(y_test==1*(pr_ts[:,0,0]>0.5)))"
   ]
  },
  {
   "cell_type": "markdown",
   "metadata": {},
   "source": [
    "## Sequence  to sequence (fixed length / variable length )"
   ]
  },
  {
   "cell_type": "code",
   "execution_count": null,
   "metadata": {},
   "outputs": [],
   "source": [
    "inputs = Input(shape=(None,),name='Input')\n",
    "x = Embedding(nWordsfromData, 32,name='Embedding')(inputs)\n",
    "x = LSTM(32,name='LSTM1')(x)\n",
    "output = TimeDistributed(Dense(1,activation='sigmoid'))(x)\n",
    "model = Model(inputs=inputs, outputs=output)\n",
    "model.compile(optimizer='adam', loss='binary_crossentropy', metrics=['acc'])"
   ]
  },
  {
   "cell_type": "code",
   "execution_count": null,
   "metadata": {},
   "outputs": [],
   "source": [
    "inputs = Input(shape=(500,),name='Input')\n",
    "x = Embedding(nWordsfromData, 32,name='Embedding')(inputs)\n",
    "x = LSTM(32,name='LSTM1')(x)\n",
    "output = TimeDistributed(Dense(1,activation='sigmoid'))(x)\n",
    "model = Model(inputs=inputs, outputs=output)\n",
    "model.compile(optimizer='adam', loss='binary_crossentropy', metrics=['acc'])"
   ]
  },
  {
   "cell_type": "markdown",
   "metadata": {},
   "source": [
    "## Regression"
   ]
  },
  {
   "cell_type": "markdown",
   "metadata": {
    "collapsed": true
   },
   "source": [
    "For regression everything else is similar except the model"
   ]
  },
  {
   "cell_type": "code",
   "execution_count": null,
   "metadata": {},
   "outputs": [],
   "source": [
    "inputs = Input(shape=(None,),name='Input')\n",
    "x = Embedding(nWordsfromData, 32,name='Embedding')(inputs)\n",
    "x = LSTM(32,name='LSTM1')(x)\n",
    "output = Dense(1, activation='linear',name='output')(x)\n",
    "model = Model(inputs=inputs, outputs=output)\n",
    "model.compile(loss='mse',optimizer='adam')"
   ]
  }
 ],
 "metadata": {
  "kernelspec": {
   "display_name": "Python (nik36)",
   "language": "python",
   "name": "nik"
  },
  "language_info": {
   "codemirror_mode": {
    "name": "ipython",
    "version": 3
   },
   "file_extension": ".py",
   "mimetype": "text/x-python",
   "name": "python",
   "nbconvert_exporter": "python",
   "pygments_lexer": "ipython3",
   "version": "3.6.8"
  },
  "toc": {
   "base_numbering": 1,
   "nav_menu": {},
   "number_sections": true,
   "sideBar": true,
   "skip_h1_title": true,
   "title_cell": "Table of Contents",
   "title_sidebar": "Contents",
   "toc_cell": true,
   "toc_position": {
    "height": "calc(100% - 180px)",
    "left": "10px",
    "top": "150px",
    "width": "256px"
   },
   "toc_section_display": true,
   "toc_window_display": true
  }
 },
 "nbformat": 4,
 "nbformat_minor": 2
}
